{
  "cells": [
    {
      "cell_type": "code",
      "execution_count": null,
      "metadata": {
        "id": "2sTqY9Lgj9Gq"
      },
      "outputs": [],
      "source": [
        "import os\n",
        "import librosa\n",
        "import librosa.display\n",
        "import numpy as np\n",
        "import matplotlib.pyplot as plt\n",
        "from itertools import combinations\n",
        "import jams\n",
        "import glob\n",
        "from os import listdir\n",
        "from os.path import isfile,join\n",
        "import json\n",
        "from sklearn.model_selection import train_test_split\n",
        "import tensorflow as tf\n",
        "from tensorflow import keras\n",
        "from sklearn import metrics\n",
        "import tensorflow_datasets as tfds"
      ]
    },
    {
      "cell_type": "code",
      "execution_count": null,
      "metadata": {
        "id": "Rk0Ec9ac-vVs"
      },
      "outputs": [],
      "source": [
        "jams_list = {}\n",
        "for anno in glob.glob(\"transcrybe/annotation/*\"):\n",
        "  jams_list[anno[22:-5]]=jams.load(anno)"
      ]
    },
    {
      "cell_type": "code",
      "execution_count": null,
      "metadata": {
        "colab": {
          "base_uri": "https://localhost:8080/"
        },
        "id": "n35AGA2hBkGf",
        "outputId": "f3e756d3-8bec-4291-9c0e-4302ef175594"
      },
      "outputs": [
        {
          "data": {
            "text/plain": [
              "array([51, 58, 62, 67])"
            ]
          },
          "execution_count": 30,
          "metadata": {},
          "output_type": "execute_result"
        }
      ],
      "source": [
        "def get_notes(j,start,stop):\n",
        "  jam=jams_list[j]\n",
        "  notes = []\n",
        "  annos = jam.search(namespace='note_midi')\n",
        "  if len(annos) == 0:\n",
        "      annos = jam.search(namespace='pitch_midi')\n",
        "  for anno in annos:\n",
        "      for note in anno:\n",
        "          if (note.time >= start and note.time <= stop) or (note.time+note.duration >= start and note.time+note.duration <= stop) or (note.time < start and note.time+note.duration > stop and note.duration > (stop-start)):\n",
        "            pitch = int(round(note.value))\n",
        "            notes.append(pitch)\n",
        "  if len(notes) > 6:\n",
        "    notes = np.delete(notes, np.s_[6::])\n",
        "  return np.unique(notes)\n",
        "  \n",
        "jam='00_BN1-129-Eb_comp'\n",
        "start=1.0\n",
        "stop=1.2\n",
        "get_notes(jam,start,stop)"
      ]
    },
    {
      "cell_type": "code",
      "execution_count": null,
      "metadata": {
        "id": "HI-WjenapMsl"
      },
      "outputs": [],
      "source": [
        "Fret = np.zeros((6, 18), dtype = np.int32)\n",
        "for q in range(0, 6):\n",
        "    for e in range(0, 18):\n",
        "        if q == 0:\n",
        "            Fret[q, e] = 40 + e\n",
        "        elif q == 1:\n",
        "            Fret[q, e] = 45 + e\n",
        "        elif q == 2:\n",
        "            Fret[q, e] = 50 + e\n",
        "        elif q == 3:\n",
        "            Fret[q, e] = 55 + e\n",
        "        elif q == 4:\n",
        "            Fret[q, e] = 59 + e\n",
        "        elif q == 5:\n",
        "            Fret[q, e] = 64 + e\n",
        "\n",
        "def get_tabs(jam,start,stop):\n",
        "  sol=[]\n",
        "  MIDI_val = get_notes(jam,start,stop)\n",
        "  for t in range(0, len(MIDI_val)):\n",
        "      Fret_played = (Fret == int(MIDI_val[t])).astype(int)\n",
        "      sol.append(Fret_played.tolist())\n",
        "\n",
        "  n = len(MIDI_val)\n",
        "  if n == 0: return np.zeros((6, 18), dtype = np.int32).tolist() # no notes played\n",
        "\n",
        "  combs = list(combinations(range(6), n))  # generate all possible combinations of n elements from 0 to 5\n",
        "  result = [c for c in combs if all(c[i] < c[i+1] for i in range(n-1))]  # filter the combinations that are in increasing order\n",
        "\n",
        "  tabs=[]\n",
        "  for i in result: # pick the strings\n",
        "    tab = np.zeros((6, 18), dtype = np.int32)\n",
        "    add = True\n",
        "    for j in range(0,n): # loop through notes\n",
        "      if 1 in sol[j][i[j]]:\n",
        "        tab[i[j]]=sol[j][i[j]]\n",
        "      else: \n",
        "        add = False\n",
        "        break\n",
        "    if add: tabs.append(tab)\n",
        "    \n",
        "  best = []\n",
        "  b_root = 999\n",
        "  min_score = 999\n",
        "  for tab in tabs:\n",
        "    root = 999\n",
        "    score = 0\n",
        "    for i in tab:\n",
        "      if 1 in i:\n",
        "        index = np.argwhere(i==1)[0][0]\n",
        "        if root == 999: root = index\n",
        "        if index != 0: score += abs(np.argwhere(i==1)[0][0] - root)\n",
        "    if score < min_score:\n",
        "      min_score = score\n",
        "      best = tab.tolist()\n",
        "      b_root = root\n",
        "    elif score == min_score:\n",
        "      if(root < b_root):\n",
        "        min_score = score\n",
        "        best = tab.tolist()\n",
        "        b_root = root\n",
        "  return best"
      ]
    },
    {
      "cell_type": "code",
      "execution_count": null,
      "metadata": {
        "colab": {
          "base_uri": "https://localhost:8080/"
        },
        "id": "h5P1ZeMiLe0K",
        "outputId": "18128d49-1596-4ad8-ae2a-74e4dc8e5809"
      },
      "outputs": [
        {
          "data": {
            "text/plain": [
              "array([48, 52, 60])"
            ]
          },
          "execution_count": 58,
          "metadata": {},
          "output_type": "execute_result"
        }
      ],
      "source": [
        "get_notes('05_SS2-88-F_comp',35.6,35.8)"
      ]
    },
    {
      "cell_type": "code",
      "execution_count": null,
      "metadata": {
        "colab": {
          "base_uri": "https://localhost:8080/"
        },
        "id": "mBxyQ9M3KMtY",
        "outputId": "1ccffe28-3f32-4412-c786-34d997d2ab1f"
      },
      "outputs": [
        {
          "data": {
            "text/plain": [
              "[[0, 0, 0, 0, 0, 0, 0, 0, 0, 0, 0, 0, 0, 0, 0, 0, 0, 0],\n",
              " [0, 0, 0, 1, 0, 0, 0, 0, 0, 0, 0, 0, 0, 0, 0, 0, 0, 0],\n",
              " [0, 0, 1, 0, 0, 0, 0, 0, 0, 0, 0, 0, 0, 0, 0, 0, 0, 0],\n",
              " [0, 0, 0, 0, 0, 1, 0, 0, 0, 0, 0, 0, 0, 0, 0, 0, 0, 0],\n",
              " [0, 0, 0, 0, 0, 0, 0, 0, 0, 0, 0, 0, 0, 0, 0, 0, 0, 0],\n",
              " [0, 0, 0, 0, 0, 0, 0, 0, 0, 0, 0, 0, 0, 0, 0, 0, 0, 0]]"
            ]
          },
          "execution_count": 57,
          "metadata": {},
          "output_type": "execute_result"
        }
      ],
      "source": [
        "get_tabs('05_SS2-88-F_comp',35.6,35.8)"
      ]
    },
    {
      "cell_type": "code",
      "execution_count": null,
      "metadata": {
        "id": "h8NWcqp5GaW2"
      },
      "outputs": [],
      "source": [
        "Fret = np.zeros((6, 19), dtype = np.int32)\n",
        "for q in range(0, 6):\n",
        "    for e in range(1, 19):\n",
        "        if q == 0:\n",
        "            Fret[q, e] = 39 + e\n",
        "        elif q == 1:\n",
        "            Fret[q, e] = 44 + e\n",
        "        elif q == 2:\n",
        "            Fret[q, e] = 49 + e\n",
        "        elif q == 3:\n",
        "            Fret[q, e] = 54 + e\n",
        "        elif q == 4:\n",
        "            Fret[q, e] = 58 + e\n",
        "        elif q == 5:\n",
        "            Fret[q, e] = 63 + e\n",
        "\n",
        "def get_tabs(jam,start,stop):\n",
        "  sol=[]\n",
        "  MIDI_val = get_notes(jam,start,stop)\n",
        "  for t in range(0, len(MIDI_val)):\n",
        "      Fret_played = (Fret == int(MIDI_val[t])).astype(int)\n",
        "      sol.append(Fret_played.tolist())\n",
        "\n",
        "  n = len(MIDI_val)\n",
        "  if n == 0: return np.zeros((6, 19), dtype = np.int32).tolist() # no notes played\n",
        "\n",
        "  combs = list(combinations(range(6), n))  # generate all possible combinations of n elements from 0 to 5\n",
        "  result = [c for c in combs if all(c[i] < c[i+1] for i in range(n-1))]  # filter the combinations that are in increasing order\n",
        "\n",
        "  tabs=[]\n",
        "  for i in result: # pick the strings\n",
        "    tab = np.zeros((6, 19), dtype = np.int32)\n",
        "    for q in tab: q[0]=1\n",
        "    add = True\n",
        "    for j in range(0,n): # loop through notes\n",
        "      if 1 in sol[j][i[j]]:\n",
        "        sol[j][i[j]][0]=0\n",
        "        tab[i[j]]=sol[j][i[j]]\n",
        "      else: \n",
        "        add = False\n",
        "        break\n",
        "    if add: tabs.append(tab)\n",
        "    \n",
        "  best = []\n",
        "  b_root = 999\n",
        "  min_score = 999\n",
        "  for tab in tabs:\n",
        "    root = 999\n",
        "    score = 0\n",
        "    for i in tab[:,1:]:\n",
        "      if 1 in i:\n",
        "        index = np.argwhere(i==1)[0][0]\n",
        "        if root == 999: root = index\n",
        "        if index != 0: score += abs(np.argwhere(i==1)[0][0] - root)\n",
        "    if score < min_score:\n",
        "      min_score = score\n",
        "      best = tab.tolist()\n",
        "      b_root = root\n",
        "    elif score == min_score:\n",
        "      if(root < b_root):\n",
        "        min_score = score\n",
        "        best = tab.tolist()\n",
        "        b_root = root\n",
        "  return best"
      ]
    },
    {
      "cell_type": "code",
      "execution_count": null,
      "metadata": {
        "colab": {
          "base_uri": "https://localhost:8080/"
        },
        "id": "h4vCvp66vttM",
        "outputId": "80e64749-0e6a-4dc6-9870-3fb42cc9155d"
      },
      "outputs": [
        {
          "data": {
            "text/plain": [
              "array([48, 52, 60])"
            ]
          },
          "execution_count": 83,
          "metadata": {},
          "output_type": "execute_result"
        }
      ],
      "source": [
        "get_notes('05_SS2-88-F_comp',35.6,35.8)"
      ]
    },
    {
      "cell_type": "code",
      "execution_count": null,
      "metadata": {
        "colab": {
          "base_uri": "https://localhost:8080/"
        },
        "id": "-Ld6VxWivN5X",
        "outputId": "822d1223-60f0-49d6-8566-d1f32f08d546"
      },
      "outputs": [
        {
          "data": {
            "text/plain": [
              "[[1, 0, 0, 0, 0, 0, 0, 0, 0, 0, 0, 0, 0, 0, 0, 0, 0, 0, 0],\n",
              " [0, 0, 0, 0, 1, 0, 0, 0, 0, 0, 0, 0, 0, 0, 0, 0, 0, 0, 0],\n",
              " [0, 0, 0, 1, 0, 0, 0, 0, 0, 0, 0, 0, 0, 0, 0, 0, 0, 0, 0],\n",
              " [0, 0, 0, 0, 0, 0, 1, 0, 0, 0, 0, 0, 0, 0, 0, 0, 0, 0, 0],\n",
              " [1, 0, 0, 0, 0, 0, 0, 0, 0, 0, 0, 0, 0, 0, 0, 0, 0, 0, 0],\n",
              " [1, 0, 0, 0, 0, 0, 0, 0, 0, 0, 0, 0, 0, 0, 0, 0, 0, 0, 0]]"
            ]
          },
          "execution_count": 84,
          "metadata": {},
          "output_type": "execute_result"
        }
      ],
      "source": [
        "get_tabs('05_SS2-88-F_comp',35.6,35.8)"
      ]
    },
    {
      "cell_type": "code",
      "execution_count": null,
      "metadata": {
        "id": "qMx_BAdeAoRu"
      },
      "outputs": [],
      "source": [
        "a = [f[:-5] for f in listdir('transcrybe/annotation') if isfile(join('transcrybe/annotation', f))]\n",
        "for anno in a:\n",
        "  tabs={}\n",
        "  plots = [f[:-4] for f in listdir('transcrybe/plot_audio') if (isfile(join('transcrybe/plot_audio', f)) and anno in f)]\n",
        "  for plot in plots:\n",
        "    jam = plot[:-3]\n",
        "    start = round(int(plot[-3:])*0.2,1)\n",
        "    stop = start+0.2\n",
        "    tabs[plot]=get_tabs(jam,start,stop)\n",
        "  path = \"tabs2/\"+plot[:-3]+\".txt\"\n",
        "  json.dump(tabs, open(path,'w'))"
      ]
    },
    {
      "cell_type": "code",
      "execution_count": null,
      "metadata": {
        "colab": {
          "base_uri": "https://localhost:8080/"
        },
        "id": "CUjlE_wdL1Bs",
        "outputId": "e9b2cc5c-a36b-4e9e-e7d2-1eb0374a17e7"
      },
      "outputs": [
        {
          "data": {
            "text/plain": [
              "[[0, 0, 0, 0, 0, 0, 0, 0, 0, 0, 0, 0, 0, 1, 0, 0, 0, 0, 0],\n",
              " [1, 0, 0, 0, 0, 0, 0, 0, 0, 0, 0, 0, 0, 0, 0, 0, 0, 0, 0],\n",
              " [1, 0, 0, 0, 0, 0, 0, 0, 0, 0, 0, 0, 0, 0, 0, 0, 0, 0, 0],\n",
              " [1, 0, 0, 0, 0, 0, 0, 0, 0, 0, 0, 0, 0, 0, 0, 0, 0, 0, 0],\n",
              " [1, 0, 0, 0, 0, 0, 0, 0, 0, 0, 0, 0, 0, 0, 0, 0, 0, 0, 0],\n",
              " [1, 0, 0, 0, 0, 0, 0, 0, 0, 0, 0, 0, 0, 0, 0, 0, 0, 0, 0]]"
            ]
          },
          "execution_count": 6,
          "metadata": {},
          "output_type": "execute_result"
        }
      ],
      "source": [
        "json.load(open(\"transcrybe/tabs2/tabs2/03_Jazz1-130-D_solo.txt\"))['03_Jazz1-130-D_solo110']"
      ]
    },
    {
      "cell_type": "code",
      "execution_count": null,
      "metadata": {
        "id": "UIKiA5Lyl9Tr"
      },
      "outputs": [],
      "source": [
        "x = []\n",
        "y = []\n",
        "a = [f for f in listdir('transcrybe/plot_audio') if isfile(join('transcrybe/plot_audio', f))]\n",
        "for plot in a:\n",
        "  try:\n",
        "    imgp = 'transcrybe/plot_audio/'+plot\n",
        "    img = tf.keras.preprocessing.image.load_img(imgp,color_mode='grayscale',target_size=(64, 64))\n",
        "    tabp = 'transcrybe/tabs2/'+plot[:-7]+'.txt'\n",
        "    tab = json.load(open(tabp))[plot[:-4]]\n",
        "    i=tf.keras.preprocessing.image.img_to_array(img).reshape(64,64)/255\n",
        "    if(len(tab)!=0):\n",
        "      x.append(i)\n",
        "      y.append(tab)\n",
        "  except:\n",
        "    continue"
      ]
    },
    {
      "cell_type": "code",
      "execution_count": null,
      "metadata": {
        "id": "cJaXz5m_zKHW"
      },
      "outputs": [],
      "source": [
        "xtrain,xtest,ytrain,ytest=train_test_split(x,y,test_size=0.2)"
      ]
    },
    {
      "cell_type": "code",
      "execution_count": null,
      "metadata": {
        "id": "xW8qvAai6jkk"
      },
      "outputs": [],
      "source": [
        "xtrain = np.array(xtrain)\n",
        "xtest = np.array(xtest)\n",
        "ytrain = np.array(ytrain)\n",
        "ytest = np.array(ytest)"
      ]
    },
    {
      "cell_type": "code",
      "execution_count": null,
      "metadata": {
        "colab": {
          "base_uri": "https://localhost:8080/"
        },
        "id": "4OgAWhO417QW",
        "outputId": "c4b4870a-b357-47c6-fc29-940e2171bd26"
      },
      "outputs": [
        {
          "name": "stderr",
          "output_type": "stream",
          "text": [
            "WARNING:absl:`lr` is deprecated in Keras optimizer, please use `learning_rate` or use the legacy optimizer, e.g.,tf.keras.optimizers.legacy.Adam.\n"
          ]
        }
      ],
      "source": [
        "# Training (Functional Method)\n",
        "model = keras.Sequential()\n",
        "model.add(keras.layers.Conv2D(64, kernel_size =(3, 3), activation='relu',input_shape=(64, 64, 1)))\n",
        "model.add(keras.layers.Conv2D(64, kernel_size = (3, 3), activation = 'relu'))\n",
        "model.add(keras.layers.Conv2D(64, kernel_size = (3, 3), activation = 'relu'))\n",
        "model.add(keras.layers.MaxPooling2D(pool_size = (2, 2)))\n",
        "model.add(keras.layers.Conv2D(64, kernel_size = (3, 3), activation = 'relu'))\n",
        "model.add(keras.layers.MaxPooling2D(pool_size = (2, 2)))\n",
        "model.add(keras.layers.Flatten())\n",
        "\n",
        "model.add(keras.layers.Dense(152, activation = 'relu'))\n",
        "model.add(keras.layers.Dropout(0.5))\n",
        "model.add(keras.layers.Dense(76))\n",
        "model.add(keras.layers.Dropout(0.2))\n",
        "\n",
        "# Connect heads to final output layer\n",
        "model.add(keras.layers.Dense(19*6, activation = 'softmax'))\n",
        "model.add(keras.layers.Reshape((6,19)))\n",
        "\n",
        "model.compile(optimizer = keras.optimizers.Adam(lr=0.01), loss = 'categorical_crossentropy',\n",
        "              metrics = ['accuracy'])"
      ]
    },
    {
      "cell_type": "code",
      "execution_count": null,
      "metadata": {
        "colab": {
          "base_uri": "https://localhost:8080/"
        },
        "id": "fHMlSNBz2K7_",
        "outputId": "cbe7f59a-fc8b-42ce-a2ea-090bd84b1891"
      },
      "outputs": [
        {
          "name": "stdout",
          "output_type": "stream",
          "text": [
            "Epoch 1/4\n",
            "1273/1273 [==============================] - 1386s 1s/step - loss: 0.9987 - accuracy: 0.6992 - val_loss: 0.8132 - val_accuracy: 0.7475\n",
            "Epoch 2/4\n",
            "1273/1273 [==============================] - 1378s 1s/step - loss: 0.9389 - accuracy: 0.7120 - val_loss: 0.7840 - val_accuracy: 0.7541\n",
            "Epoch 3/4\n",
            "1273/1273 [==============================] - 1375s 1s/step - loss: 0.8956 - accuracy: 0.7233 - val_loss: 0.7508 - val_accuracy: 0.7638\n",
            "Epoch 4/4\n",
            "1273/1273 [==============================] - 1375s 1s/step - loss: 0.8609 - accuracy: 0.7334 - val_loss: 0.7394 - val_accuracy: 0.7696\n",
            "319/319 [==============================] - 80s 252ms/step - loss: 0.7394 - accuracy: 0.7696\n"
          ]
        }
      ],
      "source": [
        "history = model.fit(xtrain, ytrain, epochs = 4, verbose = 1, \n",
        "                    validation_data = (xtest, ytest))\n",
        "score = model.evaluate(xtest, ytest, verbose = 1)"
      ]
    },
    {
      "cell_type": "code",
      "execution_count": null,
      "metadata": {
        "id": "RW3-cX7geIvg"
      },
      "outputs": [],
      "source": [
        "model.save_weights('final_model.h5')"
      ]
    },
    {
      "cell_type": "code",
      "execution_count": null,
      "metadata": {
        "id": "Cqb3Awj-f02u"
      },
      "outputs": [],
      "source": [
        "model=keras.models.load_model(\"model.h5\")"
      ]
    },
    {
      "cell_type": "code",
      "execution_count": null,
      "metadata": {
        "colab": {
          "base_uri": "https://localhost:8080/"
        },
        "id": "wAcoZwuMEuIJ",
        "outputId": "3ac7d107-0799-4cb5-9968-79f42f124a46"
      },
      "outputs": [
        {
          "name": "stdout",
          "output_type": "stream",
          "text": [
            "1/1 [==============================] - 0s 94ms/step\n"
          ]
        },
        {
          "data": {
            "text/plain": [
              "array([[[2.5449467e-01, 2.0598336e-03, 1.4713472e-03, 2.0609281e-03,\n",
              "         2.4332975e-03, 6.5900027e-03, 2.3737771e-03, 4.1230121e-03,\n",
              "         1.5700237e-03, 1.9498143e-03, 2.0847165e-03, 2.0686807e-03,\n",
              "         2.0445075e-03, 1.3149033e-03, 2.0350923e-03, 6.7735015e-04,\n",
              "         1.7407200e-04, 1.3188108e-04, 1.4689237e-04],\n",
              "        [1.5703712e-01, 1.7932594e-03, 2.2736213e-03, 2.7825502e-03,\n",
              "         2.8909561e-03, 4.1422448e-03, 3.7197848e-03, 5.2860016e-03,\n",
              "         2.3821895e-03, 2.6842067e-03, 1.0935036e-03, 6.7005085e-04,\n",
              "         2.4651559e-03, 1.7982892e-03, 2.0395990e-03, 1.8586299e-03,\n",
              "         7.3872978e-04, 3.9038164e-04, 2.2713316e-04],\n",
              "        [3.2755069e-02, 2.5810786e-03, 1.5484366e-03, 3.3429412e-03,\n",
              "         6.1917650e-03, 8.5049216e-03, 4.3924805e-03, 5.2174237e-03,\n",
              "         3.8121229e-03, 3.6168792e-03, 1.8409844e-03, 9.1140735e-04,\n",
              "         2.2215873e-03, 1.3156296e-03, 1.5389419e-03, 6.2816375e-04,\n",
              "         5.2516436e-04, 1.9286270e-04, 8.3949402e-05],\n",
              "        [3.4974936e-02, 7.7891089e-03, 9.6254097e-03, 7.4302121e-03,\n",
              "         1.1646877e-02, 4.8206239e-03, 4.0123118e-03, 5.0590080e-03,\n",
              "         5.3135268e-03, 5.2334038e-03, 2.1895992e-03, 4.4594551e-03,\n",
              "         3.0844775e-03, 2.8087662e-03, 2.6382369e-03, 2.1458105e-03,\n",
              "         9.1507920e-04, 2.9487046e-04, 4.6652392e-04],\n",
              "        [6.5394990e-02, 7.5324997e-03, 2.8808734e-03, 4.7927359e-03,\n",
              "         4.8355390e-03, 6.2922412e-03, 2.1266765e-03, 3.9079231e-03,\n",
              "         4.0403148e-03, 2.8711900e-03, 2.4562899e-03, 2.0215856e-03,\n",
              "         1.4056916e-03, 8.3992211e-04, 9.5145329e-04, 4.1363866e-04,\n",
              "         4.4228820e-04, 2.1150293e-04, 1.3817196e-04],\n",
              "        [1.5354547e-01, 1.3031194e-02, 6.6073700e-03, 5.6877709e-03,\n",
              "         5.3783138e-03, 5.0281994e-03, 4.0751933e-03, 3.2534054e-03,\n",
              "         1.4873507e-03, 1.7340501e-03, 8.6287549e-04, 1.0597995e-03,\n",
              "         7.4086821e-04, 4.3267742e-04, 6.1349594e-04, 2.6449646e-04,\n",
              "         8.5690590e-05, 1.0699196e-04, 2.4096183e-04]]], dtype=float32)"
            ]
          },
          "execution_count": 100,
          "metadata": {},
          "output_type": "execute_result"
        }
      ],
      "source": [
        "a=model.predict(xtrain[0:1])\n",
        "a"
      ]
    },
    {
      "cell_type": "code",
      "execution_count": null,
      "metadata": {
        "id": "PFHGB9nD1sgW"
      },
      "outputs": [],
      "source": [
        "def audio_CQT(audio_path, start, dur):  # start and dur in seconds\n",
        "    \n",
        "    # Function for removing noise\n",
        "    def cqt_lim(CQT):\n",
        "        new_CQT = np.copy(CQT)\n",
        "        new_CQT[new_CQT < -60] = -120\n",
        "        return new_CQT\n",
        "    \n",
        "    # Perform the Constant-Q Transform\n",
        "    data, sr = librosa.load(audio_path, sr = None, mono = True, offset = start, duration = dur)\n",
        "    CQT = librosa.cqt(data, sr = 44100, hop_length = 1024, fmin = None, n_bins = 96, bins_per_octave = 12)\n",
        "    CQT_mag = librosa.magphase(CQT)[0]**4\n",
        "    CQTdB = librosa.core.amplitude_to_db(CQT_mag, ref = np.amax)\n",
        "    new_CQT = cqt_lim(CQTdB)\n",
        "    return new_CQT"
      ]
    },
    {
      "cell_type": "code",
      "execution_count": null,
      "metadata": {
        "id": "AEdhulZ3xAuM"
      },
      "outputs": [],
      "source": [
        "def auto_tab(wav):\n",
        "  tabs = []\n",
        "  final_tab = ''\n",
        "  y,sr=librosa.load(wav)\n",
        "  dur = librosa.get_duration(y=y,sr=sr) \n",
        "  for j in np.arange(0,dur,0.2):\n",
        "    C = audio_CQT(wav,j,0.2)\n",
        "    fig, ax = plt.subplots()\n",
        "    plt.axis('off')\n",
        "    img = librosa.display.specshow(C, x_axis='time', y_axis='cqt_note', ax=ax, cmap='gray_r')\n",
        "    plt.savefig(\"test.png\")\n",
        "    plt.close()\n",
        "    img = tf.keras.preprocessing.image.load_img('test.png',color_mode='grayscale',target_size=(64, 64))\n",
        "    arr = tf.keras.preprocessing.image.img_to_array(img).reshape(64,64)/255\n",
        "    tab = model.predict(np.array([arr]))\n",
        "    for i in tab[0]:\n",
        "      ir=np.array(i)\n",
        "      a = np.zeros_like(ir, dtype=float)  # Create an array of zeros with the same shape as arr\n",
        "      max_index = np.argmax(ir)  # Get the index of the largest value in arr\n",
        "      a[max_index] = 1\n",
        "      a.astype(int).tolist()\n",
        "      tabs.append(a)\n",
        "  for i in range(5,len(tabs),6):\n",
        "    if len(np.nonzero(tabs[i]==1)[0])!=0:\n",
        "      index = np.nonzero(tabs[i]==1)[0][0] - 1\n",
        "      if index != -1: \n",
        "        final_tab += '--'+str(index)+'--'\n",
        "        continue\n",
        "    final_tab += '-----'\n",
        "  final_tab+='\\n'\n",
        "  for i in range(4,len(tabs),6):\n",
        "    if len(np.nonzero(tabs[i]==1)[0])!=0:\n",
        "      index = np.nonzero(tabs[i]==1)[0][0] - 1\n",
        "      if index != -1: \n",
        "        final_tab += '--'+str(index)+'--'\n",
        "        continue\n",
        "    final_tab += '-----'\n",
        "  final_tab+='\\n'\n",
        "  for i in range(3,len(tabs),6):\n",
        "    if len(np.nonzero(tabs[i]==1)[0])!=0:\n",
        "      index = np.nonzero(tabs[i]==1)[0][0] - 1\n",
        "      if index != -1: \n",
        "        final_tab += '--'+str(index)+'--'\n",
        "        continue\n",
        "    final_tab += '-----'\n",
        "  final_tab+='\\n'\n",
        "  for i in range(2,len(tabs),6):\n",
        "    if len(np.nonzero(tabs[i]==1)[0])!=0:\n",
        "      index = np.nonzero(tabs[i]==1)[0][0] - 1\n",
        "      if index != -1: \n",
        "        final_tab += '--'+str(index)+'--'\n",
        "        continue\n",
        "    final_tab += '-----'\n",
        "  final_tab+='\\n'\n",
        "  for i in range(1,len(tabs),6):\n",
        "    if len(np.nonzero(tabs[i]==1)[0])!=0:\n",
        "      index = np.nonzero(tabs[i]==1)[0][0] - 1\n",
        "      if index != -1: \n",
        "        final_tab += '--'+str(index)+'--'\n",
        "        continue\n",
        "    final_tab += '-----'\n",
        "  final_tab+='\\n'\n",
        "  for i in range(0,len(tabs),6):\n",
        "    if len(np.nonzero(tabs[i]==1)[0])!=0:\n",
        "      index = np.nonzero(tabs[i]==1)[0][0] - 1\n",
        "      if index != -1: \n",
        "        final_tab += '--'+str(index)+'--'\n",
        "        continue\n",
        "    final_tab += '-----'\n",
        "  final_tab+='\\n'\n",
        "  print(final_tab)\n"
      ]
    },
    {
      "cell_type": "code",
      "execution_count": null,
      "metadata": {
        "colab": {
          "base_uri": "https://localhost:8080/"
        },
        "id": "zJLa6BfnKOP3",
        "outputId": "edf7c4d2-3216-44ba-d3c8-17761c102fcf"
      },
      "outputs": [
        {
          "name": "stdout",
          "output_type": "stream",
          "text": [
            "1/1 [==============================] - 0s 31ms/step\n",
            "1/1 [==============================] - 0s 36ms/step\n",
            "1/1 [==============================] - 0s 30ms/step\n",
            "1/1 [==============================] - 0s 38ms/step\n",
            "1/1 [==============================] - 0s 32ms/step\n",
            "1/1 [==============================] - 0s 35ms/step\n",
            "1/1 [==============================] - 0s 34ms/step\n",
            "1/1 [==============================] - 0s 32ms/step\n",
            "1/1 [==============================] - 0s 32ms/step\n",
            "1/1 [==============================] - 0s 32ms/step\n",
            "1/1 [==============================] - 0s 30ms/step\n",
            "1/1 [==============================] - 0s 46ms/step\n",
            "1/1 [==============================] - 0s 41ms/step\n",
            "1/1 [==============================] - 0s 38ms/step\n",
            "1/1 [==============================] - 0s 35ms/step\n",
            "1/1 [==============================] - 0s 34ms/step\n",
            "1/1 [==============================] - 0s 35ms/step\n",
            "1/1 [==============================] - 0s 34ms/step\n",
            "1/1 [==============================] - 0s 37ms/step\n",
            "1/1 [==============================] - 0s 45ms/step\n",
            "1/1 [==============================] - 0s 74ms/step\n",
            "---------------------------------------------------------------------------------------------------------\n",
            "-------1----1----1----1----1----1------------------------------------------------------------------------\n",
            "-------0----0----0----0----0----0----0----0----0----0----0----0----0----0----0----0----0----0----0----0--\n",
            "-------2----2----2----2----2----2----2----2----2----2----2----2----2----2----2----2----2----2----2-------\n",
            "-------3----3----3----3----3----3----3----3----3----3----3----3----3----3----3----3----3----3----3----3--\n",
            "--0------------------------------------------------------------------------------------------------------\n",
            "\n"
          ]
        }
      ],
      "source": [
        "auto_tab('transcrybe/c chord.wav')"
      ]
    },
    {
      "cell_type": "code",
      "execution_count": null,
      "metadata": {
        "colab": {
          "base_uri": "https://localhost:8080/"
        },
        "id": "_G5yVhOEdyFX",
        "outputId": "14cc4067-eccb-4132-cae8-89461abf2887"
      },
      "outputs": [
        {
          "name": "stdout",
          "output_type": "stream",
          "text": [
            "1/1 [==============================] - 0s 28ms/step\n",
            "1/1 [==============================] - 0s 27ms/step\n",
            "1/1 [==============================] - 0s 24ms/step\n",
            "1/1 [==============================] - 0s 28ms/step\n",
            "1/1 [==============================] - 0s 24ms/step\n",
            "1/1 [==============================] - 0s 29ms/step\n",
            "1/1 [==============================] - 0s 23ms/step\n",
            "1/1 [==============================] - 0s 25ms/step\n",
            "1/1 [==============================] - 0s 25ms/step\n",
            "1/1 [==============================] - 0s 26ms/step\n",
            "1/1 [==============================] - 0s 25ms/step\n",
            "1/1 [==============================] - 0s 24ms/step\n",
            "1/1 [==============================] - 0s 22ms/step\n",
            "1/1 [==============================] - 0s 25ms/step\n",
            "1/1 [==============================] - 0s 23ms/step\n",
            "1/1 [==============================] - 0s 23ms/step\n",
            "1/1 [==============================] - 0s 25ms/step\n",
            "1/1 [==============================] - 0s 25ms/step\n",
            "1/1 [==============================] - 0s 24ms/step\n",
            "1/1 [==============================] - 0s 23ms/step\n",
            "1/1 [==============================] - 0s 24ms/step\n",
            "1/1 [==============================] - 0s 25ms/step\n",
            "1/1 [==============================] - 0s 25ms/step\n",
            "1/1 [==============================] - 0s 26ms/step\n",
            "1/1 [==============================] - 0s 24ms/step\n",
            "1/1 [==============================] - 0s 24ms/step\n",
            "1/1 [==============================] - 0s 23ms/step\n",
            "1/1 [==============================] - 0s 34ms/step\n",
            "1/1 [==============================] - 0s 25ms/step\n",
            "1/1 [==============================] - 0s 24ms/step\n",
            "1/1 [==============================] - 0s 27ms/step\n",
            "1/1 [==============================] - 0s 27ms/step\n",
            "1/1 [==============================] - 0s 24ms/step\n",
            "1/1 [==============================] - 0s 31ms/step\n",
            "1/1 [==============================] - 0s 24ms/step\n",
            "1/1 [==============================] - 0s 23ms/step\n",
            "1/1 [==============================] - 0s 24ms/step\n",
            "1/1 [==============================] - 0s 38ms/step\n",
            "1/1 [==============================] - 0s 31ms/step\n",
            "1/1 [==============================] - 0s 36ms/step\n",
            "1/1 [==============================] - 0s 37ms/step\n",
            "1/1 [==============================] - 0s 41ms/step\n",
            "1/1 [==============================] - 0s 47ms/step\n",
            "1/1 [==============================] - 0s 40ms/step\n",
            "1/1 [==============================] - 0s 43ms/step\n",
            "1/1 [==============================] - 0s 42ms/step\n",
            "1/1 [==============================] - 0s 44ms/step\n",
            "1/1 [==============================] - 0s 29ms/step\n",
            "1/1 [==============================] - 0s 27ms/step\n",
            "1/1 [==============================] - 0s 31ms/step\n",
            "1/1 [==============================] - 0s 28ms/step\n",
            "1/1 [==============================] - 0s 25ms/step\n",
            "1/1 [==============================] - 0s 41ms/step\n",
            "1/1 [==============================] - 0s 25ms/step\n",
            "1/1 [==============================] - 0s 25ms/step\n",
            "1/1 [==============================] - 0s 25ms/step\n",
            "1/1 [==============================] - 0s 26ms/step\n",
            "1/1 [==============================] - 0s 26ms/step\n",
            "1/1 [==============================] - 0s 25ms/step\n",
            "1/1 [==============================] - 0s 24ms/step\n",
            "1/1 [==============================] - 0s 26ms/step\n",
            "1/1 [==============================] - 0s 24ms/step\n",
            "1/1 [==============================] - 0s 24ms/step\n",
            "1/1 [==============================] - 0s 25ms/step\n",
            "1/1 [==============================] - 0s 24ms/step\n",
            "1/1 [==============================] - 0s 26ms/step\n",
            "1/1 [==============================] - 0s 24ms/step\n",
            "1/1 [==============================] - 0s 27ms/step\n",
            "1/1 [==============================] - 0s 25ms/step\n",
            "1/1 [==============================] - 0s 26ms/step\n",
            "1/1 [==============================] - 0s 25ms/step\n",
            "1/1 [==============================] - 0s 26ms/step\n",
            "1/1 [==============================] - 0s 25ms/step\n",
            "1/1 [==============================] - 0s 24ms/step\n",
            "1/1 [==============================] - 0s 27ms/step\n",
            "1/1 [==============================] - 0s 24ms/step\n",
            "1/1 [==============================] - 0s 29ms/step\n",
            "1/1 [==============================] - 0s 23ms/step\n",
            "1/1 [==============================] - 0s 24ms/step\n",
            "1/1 [==============================] - 0s 25ms/step\n",
            "1/1 [==============================] - 0s 23ms/step\n",
            "1/1 [==============================] - 0s 23ms/step\n",
            "1/1 [==============================] - 0s 29ms/step\n",
            "1/1 [==============================] - 0s 24ms/step\n",
            "1/1 [==============================] - 0s 24ms/step\n",
            "1/1 [==============================] - 0s 24ms/step\n",
            "1/1 [==============================] - 0s 24ms/step\n",
            "1/1 [==============================] - 0s 25ms/step\n",
            "1/1 [==============================] - 0s 25ms/step\n",
            "1/1 [==============================] - 0s 25ms/step\n",
            "1/1 [==============================] - 0s 24ms/step\n",
            "1/1 [==============================] - 0s 25ms/step\n",
            "1/1 [==============================] - 0s 27ms/step\n",
            "1/1 [==============================] - 0s 25ms/step\n",
            "1/1 [==============================] - 0s 23ms/step\n",
            "1/1 [==============================] - 0s 24ms/step\n",
            "1/1 [==============================] - 0s 33ms/step\n",
            "1/1 [==============================] - 0s 27ms/step\n",
            "1/1 [==============================] - 0s 27ms/step\n",
            "1/1 [==============================] - 0s 26ms/step\n",
            "1/1 [==============================] - 0s 36ms/step\n",
            "1/1 [==============================] - 0s 29ms/step\n",
            "1/1 [==============================] - 0s 31ms/step\n",
            "1/1 [==============================] - 0s 25ms/step\n",
            "1/1 [==============================] - 0s 23ms/step\n",
            "1/1 [==============================] - 0s 30ms/step\n",
            "1/1 [==============================] - 0s 26ms/step\n",
            "1/1 [==============================] - 0s 24ms/step\n",
            "1/1 [==============================] - 0s 30ms/step\n",
            "1/1 [==============================] - 0s 22ms/step\n",
            "1/1 [==============================] - 0s 24ms/step\n",
            "1/1 [==============================] - 0s 28ms/step\n",
            "1/1 [==============================] - 0s 23ms/step\n",
            "1/1 [==============================] - 0s 24ms/step\n",
            "1/1 [==============================] - 0s 34ms/step\n",
            "1/1 [==============================] - 0s 32ms/step\n",
            "1/1 [==============================] - 0s 33ms/step\n",
            "1/1 [==============================] - 0s 36ms/step\n",
            "1/1 [==============================] - 0s 37ms/step\n",
            "1/1 [==============================] - 0s 34ms/step\n",
            "1/1 [==============================] - 0s 32ms/step\n",
            "1/1 [==============================] - 0s 37ms/step\n",
            "1/1 [==============================] - 0s 33ms/step\n",
            "1/1 [==============================] - 0s 36ms/step\n",
            "1/1 [==============================] - 0s 24ms/step\n",
            "1/1 [==============================] - 0s 27ms/step\n",
            "1/1 [==============================] - 0s 27ms/step\n",
            "1/1 [==============================] - 0s 25ms/step\n",
            "1/1 [==============================] - 0s 25ms/step\n",
            "1/1 [==============================] - 0s 23ms/step\n",
            "1/1 [==============================] - 0s 23ms/step\n",
            "1/1 [==============================] - 0s 26ms/step\n",
            "1/1 [==============================] - 0s 29ms/step\n",
            "1/1 [==============================] - 0s 27ms/step\n",
            "1/1 [==============================] - 0s 25ms/step\n",
            "1/1 [==============================] - 0s 26ms/step\n",
            "1/1 [==============================] - 0s 23ms/step\n",
            "1/1 [==============================] - 0s 25ms/step\n",
            "1/1 [==============================] - 0s 25ms/step\n",
            "-----------------------------------------------------------------------------------------------------------------------------------------------------------------------------------------------------------------------------------------------------------------------------------------------------------------------------------------------------------------------------------------0----0------------------------------------------------------------------------------------------------------------------------------------------------------------------------------------------------------------------------------------------------------------------------------------------------------------------------\n",
            "--------------------------------7----7----7-------------------4----------------------------------4-------------------4-----------------------------7-------------------4---------4-------------------3-------------------4----4----4----4----4----------------------------------7----7----------------------------------------------------------------2----2----2----3----3----4---------4---------4----0----0----0----0---------4--------------4----4----4----4--------------------------------------------7----7----------------------------------4---------4----4----4----4----4----4-----------------------------7----7--------------4----4---------------------------------------8--------------4----4----4----4--\n",
            "--------------------------------7----7----9----7----7----6------------------------4----8----8----8----8----8----8----8---------8--------------11----11----11-----------------------------0--------------4----8----8----8----8----8----8----8----8------------------------11----11----11----9---------7----7----2--------------8----8----8----13----8----13----------------------------------7--------------4-----------------------------8----8----8----4----4----4----4----1----1----1----1----5----11----11----7----7----11----6----6----6-------------------8----4----8----8----8----8----8---------8-------------------12----7----7----7----6---------------------------------------4----8----8----8----8----8----8----8----8--\n",
            "-------4--------------------------------------------------------------------------------------------------------------------------------------------------------------------------------------------------------------------------------------------------------------------------------------------5------------------------------------------------------------------------------------------------------------------------------------------------------------------------------------------------------------------------------------------------------------------------------------------------------------------------------------------------------------------------------------------------------------------\n",
            "-----------------------------------------------------------------------------------------------------------------------------------------------------------------------------------------------------------------------------------------------------------------------------------------------------------------------------------------------------------------------------------------------------------------------------------------------------------------------------------------------------------------------------------------------------------------------------------------------------------------------------------------------------------------------------------------------------------------------\n",
            "-----------------------------------------------------------------------------------------------------------------------------------------------------------------------------------------------------------------------------------------------------------------------------------------------------------------------------------------------------------------------------------------------------------------------------------------------------------------------------------------------------------------------------------------------------------------------------------------------------------------------------------------------------------------------------------------------------------------------\n",
            "\n"
          ]
        }
      ],
      "source": [
        "auto_tab('transcrybe/test.wav')"
      ]
    },
    {
      "cell_type": "code",
      "execution_count": null,
      "metadata": {
        "id": "w0Hsi-enSBGK"
      },
      "outputs": [],
      "source": []
    }
  ],
  "metadata": {
    "colab": {
      "provenance": []
    },
    "kernelspec": {
      "display_name": "Python 3.9.12 ('base')",
      "language": "python",
      "name": "python3"
    },
    "language_info": {
      "name": "python",
      "version": "3.9.12"
    },
    "vscode": {
      "interpreter": {
        "hash": "9fa3df5f1ded1049c7d58d39f17ce042f0f0a992cc742838a9127d917b5cd27f"
      }
    }
  },
  "nbformat": 4,
  "nbformat_minor": 0
}
